{
 "cells": [
  {
   "cell_type": "code",
   "execution_count": null,
   "metadata": {},
   "outputs": [],
   "source": [
    "import pandas as pd\n",
    "import numpy as np\n",
    "import glob\n",
    "import torch\n",
    "import os\n",
    "import ast\n",
    "import matplotlib.pyplot as plt\n",
    "import matplotlib.pyplot as plt\n",
    "import matplotlib.image as mpimg"
   ]
  },
  {
   "cell_type": "markdown",
   "metadata": {},
   "source": [
    "# KL processing"
   ]
  },
  {
   "cell_type": "code",
   "execution_count": null,
   "metadata": {},
   "outputs": [],
   "source": [
    "test_dataset = 'FS_Static'"
   ]
  },
  {
   "cell_type": "code",
   "execution_count": null,
   "metadata": {},
   "outputs": [],
   "source": [
    "kl_directories = {\n",
    "    'FS_Static_C' : './kl_FS_Static_C',\n",
    "    'FS_Static': './kl_FS_Static',\n",
    "    'RoadAnomaly': './kl_RoadAnomaly',\n",
    "}"
   ]
  },
  {
   "cell_type": "code",
   "execution_count": null,
   "metadata": {},
   "outputs": [],
   "source": [
    "# Path to the directory where the files are stored\n",
    "directory_path = kl_directories[test_dataset]\n",
    "\n",
    "# Initialize an empty dictionary\n",
    "kl_dict = {}\n",
    "\n",
    "# List all files in the directory and process each file\n",
    "for filename in os.listdir(directory_path):\n",
    "    if filename.endswith('.npy'):\n",
    "        # Extract the key name between 'kl_' and '.npy'\n",
    "        start = filename.find('kl_div_') + 7 \n",
    "        end = filename.find('.npy')\n",
    "        layer_name = filename[start:end]\n",
    "\n",
    "        # Load the contents of the .npy file\n",
    "        file_path = os.path.join(directory_path, filename)\n",
    "        layer_content = np.load(file_path)\n",
    "\n",
    "        kl_dict[layer_name] = layer_content\n",
    "\n"
   ]
  },
  {
   "cell_type": "code",
   "execution_count": null,
   "metadata": {},
   "outputs": [],
   "source": [
    "kl_dict['model.module.mod2.block1.bn1.0'].shape"
   ]
  },
  {
   "cell_type": "code",
   "execution_count": null,
   "metadata": {},
   "outputs": [],
   "source": [
    "images_idx = np.array(np.linspace(0, 59, 30),dtype=int)\n",
    "real_idx = np.floor(images_idx/2)\n",
    "real_idx = np.array(real_idx,dtype=int)"
   ]
  },
  {
   "cell_type": "code",
   "execution_count": null,
   "metadata": {},
   "outputs": [],
   "source": [
    "ordered_idx = [0,1,21,25,12,13,14,15,16,17,18,18,2,20,21,22,23,24,25,26,27,28,29,3,4,5,6,7,8,9]"
   ]
  },
  {
   "cell_type": "code",
   "execution_count": null,
   "metadata": {},
   "outputs": [],
   "source": [
    "test_images_v1 = []\n",
    "test_images = []\n",
    "test_labels = []\n",
    "for idx in images_idx:\n",
    "    test_images_v1.append(np.load(f'./input_images_{test_dataset}/image_{idx}.npy').squeeze().transpose((1,2,0)))\n",
    "for idx in ordered_idx:  \n",
    "    test_images.append(mpimg.imread(f'../original_images/{test_dataset}/images/image_{idx}.png'))\n",
    "    test_labels.append(mpimg.imread(f'../original_images/{test_dataset}/labels/image_{idx}.png'))"
   ]
  },
  {
   "cell_type": "code",
   "execution_count": null,
   "metadata": {},
   "outputs": [],
   "source": [
    "def plot_images(test_images, cols=3):\n",
    "    num_images = len(test_images)\n",
    "    rows = (num_images  // cols)  # Calculate the number of rows needed\n",
    "\n",
    "    fig, axs = plt.subplots(rows, cols, figsize=(16*cols,9*rows))  # Create a grid of subplots\n",
    "    axs = axs.flatten()  # Flatten the array of axes, if necessary\n",
    "\n",
    "    for i, img in enumerate(test_images):\n",
    "        axs[i].imshow(img, cmap='gray')  # Show image on corresponding subplot\n",
    "        axs[i].axis('off')  # Turn off axis\n",
    "        axs[i].set_title(f'Image {i}')\n",
    "\n",
    "    plt.tight_layout()\n",
    "    plt.show()\n",
    "\n",
    "plot_images(test_images, cols=3)"
   ]
  },
  {
   "cell_type": "code",
   "execution_count": null,
   "metadata": {},
   "outputs": [],
   "source": [
    "def apply_masks(test_images, test_labels):\n",
    "    masked_images = np.zeros_like(test_images)\n",
    "    \n",
    "    # Iterate over each pair of image and label mask\n",
    "    for i in range(len(test_images)):\n",
    "        # Expand the dimensions of the mask to make it (height, width, 3) to match image channels\n",
    "        mask_expanded = np.expand_dims(test_labels[i], axis=-1)\n",
    "        # Repeat the mask across the channel dimension\n",
    "        mask_repeated = np.repeat(mask_expanded, 3, axis=2)\n",
    "        # Apply the mask by element-wise multiplication\n",
    "        masked_images[i] = test_images[i] * (mask_repeated > 0)  # mask > 0 if you want to ignore zero values\n",
    "    \n",
    "    return masked_images\n",
    "\n",
    "masked_images = apply_masks(test_images, test_labels)\n",
    "plot_images(masked_images, cols=3)"
   ]
  },
  {
   "cell_type": "code",
   "execution_count": null,
   "metadata": {},
   "outputs": [],
   "source": [
    "# sum the KL div over the channels\n",
    "kl_dict_sum = {}\n",
    "kl_dict_sum_select = {}\n",
    "for key, images_kl in kl_dict.items():\n",
    "    kl_dict_sum[key] = []\n",
    "    kl_dict_sum_select[key] = []\n",
    "    for image_kl in images_kl:\n",
    "        kl_dict_sum[key].append(np.sum(image_kl, axis=0))\n",
    "    for idx in images_idx:\n",
    "        kl_dict_sum_select[key].append(kl_dict_sum[key][idx])"
   ]
  },
  {
   "cell_type": "code",
   "execution_count": null,
   "metadata": {},
   "outputs": [],
   "source": [
    "from scipy.ndimage import zoom\n",
    "\n",
    "# Assuming test_images is a list or array of images, derive the size from the first image\n",
    "image_size = test_images[0].shape[:-1]\n",
    "kl_dict_upscaled = {}\n",
    "\n",
    "# Upscale kl_dict_sum to match the size of each image in test_images\n",
    "for layer, values in kl_dict_sum_select.items():\n",
    "    # Convert values to a numpy array if it's not already\n",
    "    values = np.array(values)\n",
    "    # Extract the spatial dimensions (the last two or three dimensions, depending on data)\n",
    "    spatial_dims = values.shape[-len(image_size):]\n",
    "    # Calculate the zoom factors based on these dimensions\n",
    "    zoom_factors = [n / o for n, o in zip(image_size, spatial_dims)]\n",
    "    # Prepare a list to hold the upscaled data for each entry in 'values'\n",
    "    upscaled = []\n",
    "    for single_value in values:\n",
    "        # Apply the zoom operation to each entry\n",
    "        upscaled.append(zoom(single_value, zoom_factors, order=1))  # Using bilinear interpolation\n",
    "    kl_dict_upscaled[layer] = upscaled"
   ]
  },
  {
   "cell_type": "code",
   "execution_count": null,
   "metadata": {},
   "outputs": [],
   "source": [
    "def create_mosaic_heatmaps(images, heatmaps, layer_name,cols=3):\n",
    "    # Determine the number of images (assumes at least one image)\n",
    "    num_images = len(images)\n",
    "    rows = num_images//cols\n",
    "    \n",
    "    # Create a figure with subplots\n",
    "    fig, axes = plt.subplots(rows, cols, figsize=(2*16*cols/12, 2*9*rows/12))\n",
    "    \n",
    "    # Flatten the axes array for easy indexing\n",
    "    axes = axes.flatten()\n",
    "    \n",
    "    # Loop through each image and corresponding heatmap\n",
    "    for idx, (image, heatmap_data) in enumerate(zip(images, heatmaps)):\n",
    "        # Normalize heatmap data\n",
    "        normalized_heatmap = (heatmap_data - np.min(heatmap_data)) / (np.max(heatmap_data) - np.min(heatmap_data))\n",
    "        \n",
    "        # Display the image\n",
    "        axes[idx].imshow(image, cmap='gray', interpolation='nearest', aspect='auto')\n",
    "        \n",
    "        # Overlay the heatmap\n",
    "        axes[idx].imshow(normalized_heatmap, cmap='hot', alpha=0.75, interpolation='nearest', aspect='auto')\n",
    "        \n",
    "        # Turn off axis labels\n",
    "        axes[idx].axis('off')\n",
    "    \n",
    "    # Set the main title\n",
    "    plt.suptitle(f\"Heatmaps for {layer_name}\", fontsize=16)\n",
    "    \n",
    "    # Hide any unused subplots if there are any\n",
    "    for ax in axes[num_images:]:\n",
    "        ax.axis('off')\n",
    "\n",
    "    plt.tight_layout()\n",
    "    \n",
    "    # Save the figure\n",
    "    plt.savefig(f'./heatmaps_{test_dataset}/mosaic_{layer_name}.png', bbox_inches='tight')\n",
    "    \n",
    "    # Display the plot\n",
    "    plt.show()\n",
    "\n",
    "# Loop through each layer and create a mosaic\n",
    "for layer_name, heatmaps in kl_dict_upscaled.items():\n",
    "    create_mosaic_heatmaps(test_images, heatmaps, layer_name)"
   ]
  },
  {
   "cell_type": "code",
   "execution_count": null,
   "metadata": {},
   "outputs": [],
   "source": [
    "def create_mosaic_heatmaps_individual(images, heatmaps, layer_name,id_img,cols=1):\n",
    "\n",
    "    num_images = len(images)\n",
    "    fig, axes = plt.subplots(1, 1, figsize=(16,9))\n",
    "    \n",
    "    # Loop through each image and corresponding heatmap\n",
    "    for idx, (image, heatmap_data) in enumerate(zip(images, heatmaps)):\n",
    "        # Normalize heatmap data\n",
    "        normalized_heatmap = (heatmap_data - np.min(heatmap_data)) / (np.max(heatmap_data) - np.min(heatmap_data))\n",
    "        \n",
    "        # Display the image\n",
    "        axes[idx].imshow(image, cmap='gray', interpolation='nearest', aspect='auto')\n",
    "        \n",
    "        # Overlay the heatmap\n",
    "        axes[idx].imshow(normalized_heatmap, cmap='hot', alpha=0.75, interpolation='nearest', aspect='auto')\n",
    "        \n",
    "        # Turn off axis labels\n",
    "        axes[idx].axis('off')\n",
    "    \n",
    "    # Set the main title\n",
    "    plt.suptitle(f\"Heatmaps for {layer_name}\", fontsize=16)\n",
    "    \n",
    "    # Hide any unused subplots if there are any\n",
    "    for ax in axes[num_images:]:\n",
    "        ax.axis('off')\n",
    "\n",
    "    plt.tight_layout()\n",
    "    \n",
    "    # Construct the directory path\n",
    "    directory = f'./heatmaps_{test_dataset}_individual/image{id_img}'\n",
    "\n",
    "    # Ensure the directory exists\n",
    "    os.makedirs(directory, exist_ok=True)\n",
    "\n",
    "    # Save the file\n",
    "    plt.savefig(f'{directory}/mosaic_{layer_name}.png', bbox_inches='tight')\n",
    "    \n",
    "    # Display the plot\n",
    "    #plt.show()\n",
    "\n",
    "# Loop through each layer and create a mosaic\n",
    "for layer_name, heatmaps in kl_dict_upscaled.items():\n",
    "    for idx, image in enumerate(test_images):\n",
    "        heatmap = heatmaps[idx]\n",
    "        create_mosaic_heatmap_individual(image, heatmap, layer_name, idx)\n"
   ]
  },
  {
   "cell_type": "code",
   "execution_count": null,
   "metadata": {},
   "outputs": [],
   "source": [
    "from PIL import Image\n",
    "def apply_mask(images, masks):\n",
    "    # Convert images to an array if not already, maintaining float dtype for normalized values\n",
    "    images = np.array(images, dtype=float)\n",
    "    \n",
    "    # Ensure masks are boolean arrays\n",
    "    masks = np.array(masks, dtype=bool)\n",
    "    \n",
    "    # Prepare an array to store the masked images\n",
    "    masked_images = np.zeros_like(images)\n",
    "\n",
    "    for i in range(len(images)):\n",
    "        # Apply the mask to all channels via broadcasting\n",
    "        masked_images[i] = images[i] * masks[i][:, :, None]\n",
    "\n",
    "        # Scale the masked image to the range 0-255 and convert to uint8\n",
    "        img_uint8 = (masked_images[i] * 255).astype(np.uint8)\n",
    "\n",
    "        # Convert the scaled array to an image\n",
    "        img = Image.fromarray(img_uint8)\n",
    "\n",
    "        # Display the mask and the resulting masked image for debugging\n",
    "        plt.figure(figsize=(10, 5))\n",
    "        plt.subplot(1, 2, 1)\n",
    "        plt.imshow(masks[i], cmap='gray')\n",
    "        plt.title(f'Mask {i}')\n",
    "        plt.axis('off')\n",
    "\n",
    "        plt.subplot(1, 2, 2)\n",
    "        plt.imshow(img)\n",
    "        plt.title(f'Masked Image {i}')\n",
    "        plt.axis('off')\n",
    "        plt.show()\n",
    "\n",
    "        # Ensure the directory exists\n",
    "        directory = f'./heatmaps_{test_dataset}_individual/image{i}'\n",
    "        if not os.path.exists(directory):\n",
    "            os.makedirs(directory)\n",
    "\n",
    "        # Save the file\n",
    "        img.save(f'{directory}/masked_test_image.png')\n",
    "\n",
    "apply_mask(test_images, test_labels)"
   ]
  },
  {
   "cell_type": "code",
   "execution_count": null,
   "metadata": {},
   "outputs": [],
   "source": [
    "for i, image in enumerate(test_images):\n",
    "    directory = f'./heatmaps_{test_dataset}_individual/image{i}'\n",
    "    img = Image.fromarray((image*255).astype(np.uint8))\n",
    "    img.save(f'{directory}/input_image.png')"
   ]
  }
 ],
 "metadata": {
  "kernelspec": {
   "display_name": "Python 3",
   "language": "python",
   "name": "python3"
  },
  "language_info": {
   "codemirror_mode": {
    "name": "ipython",
    "version": 3
   },
   "file_extension": ".py",
   "mimetype": "text/x-python",
   "name": "python",
   "nbconvert_exporter": "python",
   "pygments_lexer": "ipython3",
   "version": "3.10.8"
  }
 },
 "nbformat": 4,
 "nbformat_minor": 2
}
